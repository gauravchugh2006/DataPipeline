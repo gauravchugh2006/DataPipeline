{
 "cells": [
  {
   "cell_type": "code",
   "execution_count": 2,
   "id": "51e51a0b",
   "metadata": {},
   "outputs": [
    {
     "name": "stdout",
     "output_type": "stream",
     "text": [
      "Hello, VS Code!\n",
      "I'm learning Python.\n",
      "5 + 3 = 8\n",
      "Nice to meet you, gaurav!\n"
     ]
    }
   ],
   "source": [
    "# This is my first Python program!\n",
    "print(\"Hello, VS Code!\")\n",
    "print(\"I'm learning Python.\")\n",
    "\n",
    "# You can also do some basic math:\n",
    "result = 5 + 3\n",
    "print(\"5 + 3 =\", result)\n",
    "\n",
    "name = input(\"What's your name? \")\n",
    "print(\"Nice to meet you, \" + name + \"!\")"
   ]
  },
  {
   "cell_type": "code",
   "execution_count": 3,
   "id": "b680fc7d",
   "metadata": {},
   "outputs": [
    {
     "name": "stdout",
     "output_type": "stream",
     "text": [
      "Starting the recursive process:\n",
      "I am eating 1-th times\n",
      "I am sleeping 1-th times\n",
      "I am repeating 1-th times\n",
      "I am eating 2-th times\n",
      "I am sleeping 2-th times\n",
      "I am repeating 2-th times\n",
      "I am eating 3-th times\n",
      "I am sleeping 3-th times\n",
      "I am repeating 3-th times\n",
      "I am eating 4-th times\n",
      "I am sleeping 4-th times\n",
      "I am repeating 4-th times\n",
      "I am eating 5-th times\n",
      "I am sleeping 5-th times\n",
      "I am repeating 5-th times\n",
      "Done repeating!\n",
      "\n",
      "Program finished.\n"
     ]
    }
   ],
   "source": [
    "def repeat_function(i=0):\n",
    "    \"\"\"\n",
    "    A recursive function demonstrating eating, sleeping, and repeating.\n",
    "    \"\"\"\n",
    "    if i >= 5: # Base case: Stop the recursion after 5 repetitions\n",
    "        print(\"Done repeating!\")\n",
    "        return # Exit the function\n",
    "\n",
    "    print(f\"I am eating {i+1}-th times\")\n",
    "    print(f\"I am sleeping {i+1}-th times\")\n",
    "    print(f\"I am repeating {i+1}-th times\")\n",
    "\n",
    "    # Recursive call: Call the function itself with an incremented 'i'\n",
    "    repeat_function(i + 1)\n",
    "\n",
    "# Start the recursive process by calling the function for the first time\n",
    "print(\"Starting the recursive process:\")\n",
    "repeat_function()\n",
    "print(\"\\nProgram finished.\")"
   ]
  }
 ],
 "metadata": {
  "kernelspec": {
   "display_name": "venv",
   "language": "python",
   "name": "python3"
  },
  "language_info": {
   "codemirror_mode": {
    "name": "ipython",
    "version": 3
   },
   "file_extension": ".py",
   "mimetype": "text/x-python",
   "name": "python",
   "nbconvert_exporter": "python",
   "pygments_lexer": "ipython3",
   "version": "3.12.6"
  }
 },
 "nbformat": 4,
 "nbformat_minor": 5
}
